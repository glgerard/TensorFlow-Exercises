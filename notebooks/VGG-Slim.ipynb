{
 "cells": [
  {
   "cell_type": "markdown",
   "metadata": {},
   "source": [
    "# VGG implementation in TensorFlow Slim"
   ]
  },
  {
   "cell_type": "markdown",
   "metadata": {},
   "source": [
    "[VGGNet](https://arxiv.org/pdf/1409.1556.pdf) to classify flowers into the 17 categories of the Oxford Flowers data set.\n",
    "\n",
    "This notebook is inspired by the notebooks freely available from [TensorFlow-LiveLessons](https://github.com/the-deep-learners/TensorFlow-LiveLessons) and from [TensorFlow-Examples](https://github.com/aymericdamien/TensorFlow-Examples)."
   ]
  },
  {
   "cell_type": "markdown",
   "metadata": {},
   "source": [
    "## Preliminary steps"
   ]
  },
  {
   "cell_type": "markdown",
   "metadata": {},
   "source": [
    "### Global params"
   ]
  },
  {
   "cell_type": "code",
   "execution_count": null,
   "metadata": {
    "collapsed": true
   },
   "outputs": [],
   "source": [
    "epochs = 10\n",
    "batch_size = 32\n",
    "test_size = 0.1\n",
    "pool_size = 2\n",
    "n_maxpool_layers = 5\n",
    "padding = 'VALID'\n",
    "learning_rate = 1e-4\n",
    "dropout = 0.5\n",
    "display_steps = 2"
   ]
  },
  {
   "cell_type": "markdown",
   "metadata": {},
   "source": [
    "### Set seed"
   ]
  },
  {
   "cell_type": "code",
   "execution_count": null,
   "metadata": {
    "collapsed": true
   },
   "outputs": [],
   "source": [
    "import numpy as np\n",
    "np.random.seed(42)"
   ]
  },
  {
   "cell_type": "markdown",
   "metadata": {},
   "source": [
    "### Load dependencies"
   ]
  },
  {
   "cell_type": "code",
   "execution_count": null,
   "metadata": {},
   "outputs": [],
   "source": [
    "import tensorflow as tf\n",
    "import tensorflow.contrib.slim as slim\n",
    "import tensorflow.contrib.layers as layers\n",
    "from sklearn.model_selection import train_test_split\n",
    "import math"
   ]
  },
  {
   "cell_type": "markdown",
   "metadata": {},
   "source": [
    "### Load the data"
   ]
  },
  {
   "cell_type": "code",
   "execution_count": null,
   "metadata": {},
   "outputs": [],
   "source": [
    "import tflearn.datasets.oxflower17 as oxflower17\n",
    "X, Y = oxflower17.load_data(one_hot=True)"
   ]
  },
  {
   "cell_type": "code",
   "execution_count": null,
   "metadata": {
    "collapsed": true
   },
   "outputs": [],
   "source": [
    "num_examples, img_height, img_width, img_channels = X.shape\n",
    "\n",
    "X_train, X_test, Y_train, Y_test = train_test_split(X,Y, test_size=test_size, random_state=42)"
   ]
  },
  {
   "cell_type": "code",
   "execution_count": null,
   "metadata": {},
   "outputs": [],
   "source": [
    "print(\"Shape of training set {}\".format(X_train.shape))"
   ]
  },
  {
   "cell_type": "code",
   "execution_count": null,
   "metadata": {},
   "outputs": [],
   "source": [
    "print(\"Shape of labels {}\".format(Y_train.shape))"
   ]
  },
  {
   "cell_type": "code",
   "execution_count": null,
   "metadata": {},
   "outputs": [],
   "source": [
    "n_classes = Y.shape[1]\n",
    "print(n_classes)"
   ]
  },
  {
   "cell_type": "code",
   "execution_count": null,
   "metadata": {},
   "outputs": [],
   "source": [
    "import matplotlib.pyplot as plt\n",
    "%matplotlib inline\n",
    "fig, axes = plt.subplots(2,2)\n",
    "axes[0,0].imshow(X_train[0])\n",
    "axes[0,1].imshow(X_train[1])\n",
    "axes[1,0].imshow(X_train[2])\n",
    "axes[1,1].imshow(X_train[3])"
   ]
  },
  {
   "cell_type": "code",
   "execution_count": null,
   "metadata": {},
   "outputs": [],
   "source": [
    "print(Y_train[0:4])"
   ]
  },
  {
   "cell_type": "markdown",
   "metadata": {},
   "source": [
    "## Define the network architecture"
   ]
  },
  {
   "cell_type": "markdown",
   "metadata": {},
   "source": [
    "### Placeholders for images and targets"
   ]
  },
  {
   "cell_type": "code",
   "execution_count": null,
   "metadata": {
    "collapsed": true
   },
   "outputs": [],
   "source": [
    "x = tf.placeholder(tf.float32, shape=[None, img_height, img_width, img_channels])\n",
    "y_ = tf.placeholder(tf.float32, shape=[None, n_classes])\n",
    "keep_prob = tf.placeholder(tf.float32) # dropout (keep probability)"
   ]
  },
  {
   "cell_type": "markdown",
   "metadata": {},
   "source": [
    "### Network"
   ]
  },
  {
   "cell_type": "code",
   "execution_count": null,
   "metadata": {
    "collapsed": true
   },
   "outputs": [],
   "source": [
    "# Parameters\n",
    "\n",
    "# Conv 1\n",
    "k_conv1 = 3\n",
    "n_conv1 = 64\n",
    "\n",
    "# Conv 2\n",
    "k_conv2 = 3\n",
    "n_conv2 = 128\n",
    "\n",
    "# Conv 3\n",
    "k_conv3 = 3\n",
    "n_conv3 = 256\n",
    "\n",
    "# Conv 4\n",
    "k_conv4 = 3\n",
    "n_conv4 = 512\n",
    "\n",
    "# Conv 5\n",
    "k_conv5 = 3\n",
    "n_conv5 = 512\n",
    "\n",
    "# FC 6\n",
    "n_fc6 = 4096\n",
    "\n",
    "# FC 7\n",
    "n_fc7 = 4096"
   ]
  },
  {
   "cell_type": "code",
   "execution_count": null,
   "metadata": {
    "collapsed": true
   },
   "outputs": [],
   "source": [
    "def vgg16(x, debug, batch_norm=True):\n",
    "    with slim.arg_scope([layers.conv2d, layers.fully_connected],\n",
    "                       activation_fn=tf.nn.relu,\n",
    "                       weights_initializer=tf.contrib.layers.xavier_initializer()):\n",
    "        # convolution 1\n",
    "        net = slim.repeat(x, 2, layers.conv2d, n_conv1, [k_conv1, k_conv1],\n",
    "                          padding=padding, scope='conv1')\n",
    "        net = layers.max_pool2d(net, [pool_size, pool_size],\n",
    "                              padding=padding, scope='pool1')\n",
    "        if batch_norm:\n",
    "            net = layers.batch_norm(net)\n",
    "        if debug:\n",
    "            print('Conv1 shape {}'.format(net.shape))\n",
    "            \n",
    "        # convolution 2\n",
    "        net = slim.repeat(net, 2, layers.conv2d, n_conv2, [k_conv2, k_conv2],\n",
    "                          padding=padding, scope='conv2')\n",
    "        net = layers.max_pool2d(net, [pool_size, pool_size],\n",
    "                              padding=padding, scope='pool2')\n",
    "        if batch_norm:\n",
    "            net = layers.batch_norm(net)\n",
    "        if debug:\n",
    "            print('Conv2 shape {}'.format(net.shape))\n",
    "\n",
    "        # convolution 3\n",
    "        net = slim.repeat(net, 3, layers.conv2d, n_conv3, [k_conv3, k_conv3],\n",
    "                          padding=padding, scope='conv3')\n",
    "        net = layers.max_pool2d(net, [pool_size, pool_size],\n",
    "                              padding=padding, scope='pool3')\n",
    "        if batch_norm:\n",
    "            net = layers.batch_norm(net)\n",
    "        if debug:\n",
    "            print('Conv3 shape {}'.format(net.shape))\n",
    "\n",
    "        # convolution 4\n",
    "        net = slim.repeat(net, 3, layers.conv2d, n_conv4, [k_conv4, k_conv4],\n",
    "                          padding=padding, scope='conv4')\n",
    "        net = layers.max_pool2d(net, [pool_size, pool_size],\n",
    "                              padding=padding, scope='pool4')\n",
    "        if batch_norm:\n",
    "            net = layers.batch_norm(net)\n",
    "        if debug:\n",
    "            print('Conv4 shape {}'.format(net.shape))\n",
    "            \n",
    "        # convolution 5\n",
    "        net = slim.repeat(net, 3, layers.conv2d, n_conv5, [k_conv5, k_conv5],\n",
    "                          padding=padding, scope='conv5')\n",
    "        net = layers.max_pool2d(net, [pool_size, pool_size],\n",
    "                              padding=padding, scope='pool5')\n",
    "        if batch_norm:\n",
    "            net = layers.batch_norm(net)\n",
    "        if debug:\n",
    "            print('Conv5 shape {}'.format(net.shape))\n",
    "            \n",
    "        # tf.summary.histogram('pool_5', net)\n",
    "        \n",
    "        # fully connected layers\n",
    "        \n",
    "        net = layers.flatten(net)\n",
    "        net = layers.fully_connected(net, n_fc6, scope='fc6')\n",
    "        net = tf.nn.dropout(net, keep_prob, name='dropout6')\n",
    "        net = layers.fully_connected(net, n_fc7, scope='fc7')\n",
    "        net = tf.nn.dropout(net, keep_prob, name='dropout7')\n",
    "        net = layers.fully_connected(net, n_classes, activation_fn=None, scope='fc8')\n",
    "        \n",
    "        # tf.summary.histogram('scores', net)\n",
    "\n",
    "    return net"
   ]
  },
  {
   "cell_type": "markdown",
   "metadata": {},
   "source": [
    "### Filters"
   ]
  },
  {
   "cell_type": "code",
   "execution_count": null,
   "metadata": {},
   "outputs": [],
   "source": [
    "# Compute dense layer size\n",
    "if padding == 'SAME':\n",
    "    downsampling_factor = math.pow(pool_size, n_maxpool_layers)\n",
    "    dense_layer_size = int(img_height / downsampling_factor) * int(img_width / downsampling_factor) * n_conv5\n",
    "else:\n",
    "    dense_layer_size = n_conv5"
   ]
  },
  {
   "cell_type": "markdown",
   "metadata": {},
   "source": [
    "## Run the architecture"
   ]
  },
  {
   "cell_type": "markdown",
   "metadata": {},
   "source": [
    "### Build the model"
   ]
  },
  {
   "cell_type": "code",
   "execution_count": null,
   "metadata": {},
   "outputs": [],
   "source": [
    "predictions = vgg16(x, True, True )\n",
    "predictions.shape"
   ]
  },
  {
   "cell_type": "markdown",
   "metadata": {},
   "source": [
    "### Define loss and optimization method"
   ]
  },
  {
   "cell_type": "code",
   "execution_count": null,
   "metadata": {},
   "outputs": [],
   "source": [
    "tf.losses.softmax_cross_entropy(y_, predictions)\n",
    "total_loss = tf.losses.get_total_loss()\n",
    "tf.summary.scalar('loss', total_loss)\n",
    "\n",
    "#optimizer = tf.train.GradientDescentOptimizer(learning_rate=learning_rate)\n",
    "optimizer = tf.train.AdamOptimizer(learning_rate)\n",
    "train_op = optimizer.minimize(total_loss)"
   ]
  },
  {
   "cell_type": "markdown",
   "metadata": {},
   "source": [
    "### Evaluation"
   ]
  },
  {
   "cell_type": "code",
   "execution_count": null,
   "metadata": {},
   "outputs": [],
   "source": [
    "accuracy, update_op_acc = tf.metrics.accuracy(y_, predictions)\n",
    "tf.summary.scalar('accuracy', accuracy)"
   ]
  },
  {
   "cell_type": "markdown",
   "metadata": {},
   "source": [
    "### Trainining"
   ]
  },
  {
   "cell_type": "code",
   "execution_count": null,
   "metadata": {},
   "outputs": [],
   "source": [
    "with tf.Session() as sess:\n",
    "    # Merge all the summaries and write them out to /tmp/mnist_logs (by default)\n",
    "    merged = tf.summary.merge_all()\n",
    "    train_writer = tf.summary.FileWriter('log/VGG/run1',sess.graph)\n",
    "\n",
    "    sess.run(tf.global_variables_initializer())\n",
    "    sess.run(tf.local_variables_initializer())\n",
    "    n_batches = int(X_train.shape[0] / batch_size)\n",
    "    idx = np.arange(n_batches)\n",
    "    print(\"N. of batches {}\".format(n_batches))\n",
    "    steps = 0\n",
    "    for epoch in range(epochs):\n",
    "        sum_loss = 0.0\n",
    "        # loop over batches with shuffling\n",
    "        np.random.shuffle(idx)\n",
    "        for i in range(n_batches):\n",
    "            batch_x = X_train[idx[i]*batch_size: (idx[i]+1)*batch_size]\n",
    "            batch_y = Y_train[idx[i]*batch_size: (idx[i]+1)*batch_size]\n",
    "            \n",
    "            sess.run([train_op, update_op_acc],feed_dict={x: batch_x, y_: batch_y, keep_prob: 1.0-dropout} )\n",
    "            batch_loss, summary = sess.run([total_loss, merged],\n",
    "                                            feed_dict={x: batch_x, y_: batch_y, keep_prob: 1.0})\n",
    "            accuracy.eval()\n",
    "            if steps % display_steps == 0:\n",
    "                train_writer.add_summary(summary, steps)\n",
    "            sum_loss += batch_loss \n",
    "            steps += 1\n",
    "            print('.', sep='', end='')\n",
    "        print('')\n",
    "        print(\"Epoch = {} / {}; loss = {:.3f}; accuracy = {:.2f}\".format(epoch+1, epochs,\n",
    "                                                                         sum_loss/n_batches,\n",
    "                                                                         accuracy.eval()))\n",
    "    print(\"Training Complete. Testing Model.\\n\")\n",
    "    \n",
    "    test_loss = loss.eval({x: X_test[:batch_size], y_: Y_test[:batch_size], keep_prob: 1.0})\n",
    "    test_acc = accuracy.eval({x: X_test[:batch_size], y_: Y_test[:batch_size], keep_prob: 1.0})\n",
    "    print(\"Test Cost:\", '{:.3f}'.format(test_loss))\n",
    "    print(\"Test Accuracy: \", '{:.2f}'.format(test_acc), \"%\", sep='')"
   ]
  }
 ],
 "metadata": {
  "kernelspec": {
   "display_name": "Python 3",
   "language": "python",
   "name": "python3"
  },
  "language_info": {
   "codemirror_mode": {
    "name": "ipython",
    "version": 3
   },
   "file_extension": ".py",
   "mimetype": "text/x-python",
   "name": "python",
   "nbconvert_exporter": "python",
   "pygments_lexer": "ipython3",
   "version": "3.6.3"
  },
  "toc": {
   "colors": {
    "hover_highlight": "#DAA520",
    "running_highlight": "#FF0000",
    "selected_highlight": "#FFD700"
   },
   "moveMenuLeft": true,
   "nav_menu": {
    "height": "48px",
    "width": "252px"
   },
   "navigate_menu": true,
   "number_sections": true,
   "sideBar": true,
   "threshold": 4,
   "toc_cell": false,
   "toc_section_display": "block",
   "toc_window_display": false,
   "widenNotebook": false
  }
 },
 "nbformat": 4,
 "nbformat_minor": 2
}
